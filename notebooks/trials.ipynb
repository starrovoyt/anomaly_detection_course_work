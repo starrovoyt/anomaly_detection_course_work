{
 "cells": [
  {
   "cell_type": "code",
   "execution_count": 2,
   "metadata": {},
   "outputs": [],
   "source": [
    "import pyspark\n",
    "import pyarrow \n",
    "\n",
    "import pandas as pd\n",
    "import numpy as np\n",
    "\n",
    "from pyspark.sql import SparkSession\n",
    "from pyspark.sql.types import StructType, StructField, StringType"
   ]
  },
  {
   "cell_type": "code",
   "execution_count": 3,
   "metadata": {},
   "outputs": [],
   "source": [
    "sc = pyspark.SparkContext(master='local[4]', appName='notebook')\n",
    "ss = SparkSession(sc)"
   ]
  },
  {
   "cell_type": "code",
   "execution_count": 4,
   "metadata": {},
   "outputs": [],
   "source": [
    "from hdfs import InsecureClient\n",
    "\n",
    "hdfs_client = InsecureClient(\"http://localhost:8888\", user='hdfs')"
   ]
  },
  {
   "cell_type": "code",
   "execution_count": 5,
   "metadata": {},
   "outputs": [
    {
     "data": {
      "text/html": [
       "<div>\n",
       "<style scoped>\n",
       "    .dataframe tbody tr th:only-of-type {\n",
       "        vertical-align: middle;\n",
       "    }\n",
       "\n",
       "    .dataframe tbody tr th {\n",
       "        vertical-align: top;\n",
       "    }\n",
       "\n",
       "    .dataframe thead th {\n",
       "        text-align: right;\n",
       "    }\n",
       "</style>\n",
       "<table border=\"1\" class=\"dataframe\">\n",
       "  <thead>\n",
       "    <tr style=\"text-align: right;\">\n",
       "      <th></th>\n",
       "      <th>id1</th>\n",
       "      <th>id_type</th>\n",
       "      <th>neighbour_id</th>\n",
       "      <th>neighbour_id_type</th>\n",
       "    </tr>\n",
       "  </thead>\n",
       "  <tbody>\n",
       "    <tr>\n",
       "      <th>0</th>\n",
       "      <td>gfhjk</td>\n",
       "      <td>login</td>\n",
       "      <td>1</td>\n",
       "      <td>other</td>\n",
       "    </tr>\n",
       "    <tr>\n",
       "      <th>1</th>\n",
       "      <td>gfhjk</td>\n",
       "      <td>login</td>\n",
       "      <td>3</td>\n",
       "      <td>other</td>\n",
       "    </tr>\n",
       "    <tr>\n",
       "      <th>2</th>\n",
       "      <td>gfhjk</td>\n",
       "      <td>login</td>\n",
       "      <td>2</td>\n",
       "      <td>other</td>\n",
       "    </tr>\n",
       "    <tr>\n",
       "      <th>3</th>\n",
       "      <td>fghj</td>\n",
       "      <td>login</td>\n",
       "      <td>1</td>\n",
       "      <td>other</td>\n",
       "    </tr>\n",
       "    <tr>\n",
       "      <th>4</th>\n",
       "      <td>sdftygu</td>\n",
       "      <td>login</td>\n",
       "      <td>1</td>\n",
       "      <td>other</td>\n",
       "    </tr>\n",
       "  </tbody>\n",
       "</table>\n",
       "</div>"
      ],
      "text/plain": [
       "       id1 id_type  neighbour_id neighbour_id_type\n",
       "0    gfhjk   login             1             other\n",
       "1    gfhjk   login             3             other\n",
       "2    gfhjk   login             2             other\n",
       "3     fghj   login             1             other\n",
       "4  sdftygu   login             1             other"
      ]
     },
     "execution_count": 5,
     "metadata": {},
     "output_type": "execute_result"
    }
   ],
   "source": [
    "df = pd.read_csv('/Users/starrovoyt/Desktop/hse/course_work/notebooks/data.scv')\n",
    "df.head()"
   ]
  },
  {
   "cell_type": "code",
   "execution_count": 6,
   "metadata": {},
   "outputs": [
    {
     "name": "stdout",
     "output_type": "stream",
     "text": [
      "root\n",
      " |-- id: string (nullable = true)\n",
      " |-- id_type: string (nullable = true)\n",
      " |-- neighbour_id: string (nullable = true)\n",
      " |-- neighbour_id_type: string (nullable = true)\n",
      "\n",
      "+----------+-------+------------+-----------------+\n",
      "|        id|id_type|neighbour_id|neighbour_id_type|\n",
      "+----------+-------+------------+-----------------+\n",
      "|     gfhjk|  login|           1|            other|\n",
      "|     gfhjk|  login|           3|            other|\n",
      "|     gfhjk|  login|           2|            other|\n",
      "|      fghj|  login|           1|            other|\n",
      "|   sdftygu|  login|           1|            other|\n",
      "|      dfgh|  login|           1|            other|\n",
      "|    qwedfg|  login|           1|            other|\n",
      "|     rtyui|  login|           1|            other|\n",
      "|jhsdgflsdf|  login|           1|            other|\n",
      "|  skjdfhsd|  login|           1|            other|\n",
      "+----------+-------+------------+-----------------+\n",
      "\n"
     ]
    }
   ],
   "source": [
    "schema = StructType([\n",
    "    StructField(\"id\", StringType(), True),\n",
    "    StructField(\"id_type\", StringType(), True),\n",
    "    StructField(\"neighbour_id\", StringType(), True),\n",
    "    StructField(\"neighbour_id_type\", StringType(), True),\n",
    "])\n",
    "\n",
    "\n",
    "df = ss.read.csv('/Users/starrovoyt/Desktop/hse/course_work/notebooks/data.scv', header=True, schema=schema)\n",
    "df.printSchema()\n",
    "\n",
    "df.registerTempTable(\"edges_table\")\n",
    "\n",
    "df.show()"
   ]
  },
  {
   "cell_type": "code",
   "execution_count": 7,
   "metadata": {
    "scrolled": true
   },
   "outputs": [
    {
     "name": "stdout",
     "output_type": "stream",
     "text": [
      "+----------+-------+-----------------+\n",
      "|        id|id_type|neighbours_number|\n",
      "+----------+-------+-----------------+\n",
      "|     rtyui|  login|                1|\n",
      "|      fghj|  login|                1|\n",
      "|  skjdfhsd|  login|                1|\n",
      "|      dfgh|  login|                1|\n",
      "|jhsdgflsdf|  login|                1|\n",
      "|   sdftygu|  login|                1|\n",
      "|     gfhjk|  login|                3|\n",
      "|    qwedfg|  login|                1|\n",
      "+----------+-------+-----------------+\n",
      "\n"
     ]
    }
   ],
   "source": [
    "neighbours = ss.sql(\"\"\"\n",
    "select id, id_type, count(map(neighbour_id, neighbour_id_type)) as neighbours_number\n",
    "from edges_table\n",
    "where id_type = 'login'\n",
    "group by id, id_type\n",
    "\"\"\")\n",
    "\n",
    "neighbours.show()"
   ]
  },
  {
   "cell_type": "code",
   "execution_count": 8,
   "metadata": {},
   "outputs": [],
   "source": [
    "neighbours.registerTempTable(\"neighbours\")\n",
    "neighbours_number = ss.sql(\n",
    "\"\"\"\n",
    "select neighbours_number\n",
    "from neighbours\n",
    "where id = 'gfhjk' and id_type = 'login'\n",
    "\"\"\").toDF('neighbours_number')"
   ]
  },
  {
   "cell_type": "code",
   "execution_count": 9,
   "metadata": {},
   "outputs": [
    {
     "name": "stdout",
     "output_type": "stream",
     "text": [
      "+-----------------+\n",
      "|neighbours_number|\n",
      "+-----------------+\n",
      "|                3|\n",
      "+-----------------+\n",
      "\n"
     ]
    }
   ],
   "source": [
    "neighbours_number.show()"
   ]
  },
  {
   "cell_type": "code",
   "execution_count": 10,
   "metadata": {},
   "outputs": [
    {
     "data": {
      "text/plain": [
       "3"
      ]
     },
     "execution_count": 10,
     "metadata": {},
     "output_type": "execute_result"
    }
   ],
   "source": [
    "neighbours_number.toPandas().neighbours_number[0]"
   ]
  },
  {
   "cell_type": "code",
   "execution_count": 11,
   "metadata": {},
   "outputs": [],
   "source": [
    "df = ss.read.csv('/Users/starrovoyt/Desktop/hse/course_work/notebooks/data.scv', header=True, schema=schema)"
   ]
  },
  {
   "cell_type": "code",
   "execution_count": 47,
   "metadata": {},
   "outputs": [],
   "source": [
    "from pyspark.sql import Row\n",
    "from functools import partial\n",
    "\n",
    "class mapper(object):\n",
    "    def __init__(self, id_type):\n",
    "        self.id_type = id_type\n",
    "    \n",
    "    def __call__(self, row):\n",
    "        return {'id + id_type': row.id + ' ' + self.id_type}\n",
    "\n",
    "# def trial_mapper(row, id_type):\n",
    "#     return {'id + id_type': row.id + ' ' + id_type}\n",
    "\n",
    "new_df = df.rdd.map(mapper('login')).toDF()"
   ]
  },
  {
   "cell_type": "code",
   "execution_count": 48,
   "metadata": {},
   "outputs": [
    {
     "data": {
      "text/html": [
       "<div>\n",
       "<style scoped>\n",
       "    .dataframe tbody tr th:only-of-type {\n",
       "        vertical-align: middle;\n",
       "    }\n",
       "\n",
       "    .dataframe tbody tr th {\n",
       "        vertical-align: top;\n",
       "    }\n",
       "\n",
       "    .dataframe thead th {\n",
       "        text-align: right;\n",
       "    }\n",
       "</style>\n",
       "<table border=\"1\" class=\"dataframe\">\n",
       "  <thead>\n",
       "    <tr style=\"text-align: right;\">\n",
       "      <th></th>\n",
       "      <th>id + id_type</th>\n",
       "    </tr>\n",
       "  </thead>\n",
       "  <tbody>\n",
       "    <tr>\n",
       "      <th>0</th>\n",
       "      <td>gfhjk login</td>\n",
       "    </tr>\n",
       "    <tr>\n",
       "      <th>1</th>\n",
       "      <td>gfhjk login</td>\n",
       "    </tr>\n",
       "    <tr>\n",
       "      <th>2</th>\n",
       "      <td>gfhjk login</td>\n",
       "    </tr>\n",
       "    <tr>\n",
       "      <th>3</th>\n",
       "      <td>fghj login</td>\n",
       "    </tr>\n",
       "    <tr>\n",
       "      <th>4</th>\n",
       "      <td>sdftygu login</td>\n",
       "    </tr>\n",
       "    <tr>\n",
       "      <th>5</th>\n",
       "      <td>dfgh login</td>\n",
       "    </tr>\n",
       "    <tr>\n",
       "      <th>6</th>\n",
       "      <td>qwedfg login</td>\n",
       "    </tr>\n",
       "    <tr>\n",
       "      <th>7</th>\n",
       "      <td>rtyui login</td>\n",
       "    </tr>\n",
       "    <tr>\n",
       "      <th>8</th>\n",
       "      <td>jhsdgflsdf login</td>\n",
       "    </tr>\n",
       "    <tr>\n",
       "      <th>9</th>\n",
       "      <td>skjdfhsd login</td>\n",
       "    </tr>\n",
       "  </tbody>\n",
       "</table>\n",
       "</div>"
      ],
      "text/plain": [
       "       id + id_type\n",
       "0       gfhjk login\n",
       "1       gfhjk login\n",
       "2       gfhjk login\n",
       "3        fghj login\n",
       "4     sdftygu login\n",
       "5        dfgh login\n",
       "6      qwedfg login\n",
       "7       rtyui login\n",
       "8  jhsdgflsdf login\n",
       "9    skjdfhsd login"
      ]
     },
     "execution_count": 48,
     "metadata": {},
     "output_type": "execute_result"
    }
   ],
   "source": [
    "new_df.toPandas()"
   ]
  },
  {
   "cell_type": "code",
   "execution_count": 35,
   "metadata": {},
   "outputs": [
    {
     "data": {
      "text/plain": [
       "pyspark.sql.dataframe.DataFrame"
      ]
     },
     "execution_count": 35,
     "metadata": {},
     "output_type": "execute_result"
    }
   ],
   "source": [
    "df_sample = df.sample(False, 0.5)\n",
    "type(df_sample)"
   ]
  },
  {
   "cell_type": "code",
   "execution_count": null,
   "metadata": {},
   "outputs": [],
   "source": []
  }
 ],
 "metadata": {
  "kernelspec": {
   "display_name": "Python 3",
   "language": "python",
   "name": "python3"
  },
  "language_info": {
   "codemirror_mode": {
    "name": "ipython",
    "version": 3
   },
   "file_extension": ".py",
   "mimetype": "text/x-python",
   "name": "python",
   "nbconvert_exporter": "python",
   "pygments_lexer": "ipython3",
   "version": "3.7.1"
  }
 },
 "nbformat": 4,
 "nbformat_minor": 2
}
